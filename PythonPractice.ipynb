{
 "cells": [
  {
   "cell_type": "markdown",
   "id": "67ae37fa",
   "metadata": {},
   "source": [
    "Write a function (guessing_game) that takes no arguments.\n",
    "\n",
    "When run, the function chooses a random integer between 0 and 100 (inclusive).\n",
    "\n",
    "Then ask the user to guess what number has been chosen.\n",
    "\n",
    "Each time the user enters a guess, the program indicates one of the following:\n",
    "\n",
    "Too high\n",
    "\n",
    "Too low\n",
    "\n",
    "Just right\n",
    "\n",
    "If the user guesses correctly, the program exits. Otherwise, the user is asked to try again.\n",
    "\n",
    "The program only exits after the user guesses correctly."
   ]
  },
  {
   "cell_type": "code",
   "execution_count": 20,
   "id": "0273ab15",
   "metadata": {},
   "outputs": [
    {
     "name": "stdout",
     "output_type": "stream",
     "text": [
      "What is your name?\n",
      "Hello, !\n",
      "What is your guess?1\n",
      "Too low. Try Again and guess again. Thoughts?2\n",
      "Too low. Try Again and guess again. Thoughts?3\n"
     ]
    }
   ],
   "source": [
    "def guessing_game():\n",
    "    name=input(\"What is your name?\")\n",
    "    print(f'Hello, {name}!')\n",
    "    import random\n",
    "    num=random.randint(0,3)\n",
    "    guessnum=int(input(\"What is your guess?\"))\n",
    "    while guessnum!=num:\n",
    "     if guessnum > num:\n",
    "        guessnum=(int(input(\"Too high. Try Again and guess again. Thoughts?\")))\n",
    "     else :\n",
    "        guessnum=(int(input(\"Too low. Try Again and guess again. Thoughts?\")))\n",
    "\n",
    "\n",
    "guessing_game()"
   ]
  },
  {
   "cell_type": "code",
   "execution_count": 26,
   "id": "4bfc7cc0",
   "metadata": {},
   "outputs": [
    {
     "data": {
      "text/plain": [
       "10"
      ]
     },
     "execution_count": 26,
     "metadata": {},
     "output_type": "execute_result"
    }
   ],
   "source": [
    "def mysum(*number):\n",
    "    \"\"\" This function adds numbers passed as argument.\"\"\"\n",
    "    sumnum=0\n",
    "    for num in number:\n",
    "     sumnum+=num\n",
    "    return sumnum\n",
    "\n",
    "mysum(1,2,3,4)"
   ]
  },
  {
   "cell_type": "code",
   "execution_count": 43,
   "id": "bc5e78ad",
   "metadata": {},
   "outputs": [
    {
     "name": "stdout",
     "output_type": "stream",
     "text": [
      "Enter 10 km run time: 8\n",
      "Enter 10 km run time: 9\n",
      "Enter 10 km run time: \n",
      "The Avegare Run time is: 8.5\n"
     ]
    }
   ],
   "source": [
    "def run_timing():\n",
    "    \"\"\"Asks how long it took for you to run 10 km. It continues to ask how long (in minutes) it took for additional runs, until the user presses Enter.\"\"\"\n",
    "\n",
    "    try:\n",
    "        totruntime=0\n",
    "        count=0\n",
    "        while True:\n",
    "         runtime=int(input(\"Enter 10 km run time: \"))\n",
    "         if runtime == False:\n",
    "          break\n",
    "         else:\n",
    "          totruntime+=runtime\n",
    "          count+=1\n",
    "        return (totruntime/count)\n",
    "    except ValueError as e:\n",
    "        print(f'The Avegare Run time is: {(totruntime/count)}')\n",
    "    except ZeroDivisionError as z:\n",
    "        print('You have not run at all if you ran zero')\n",
    "\n",
    "run_timing()        "
   ]
  },
  {
   "cell_type": "code",
   "execution_count": 42,
   "id": "13485d32",
   "metadata": {},
   "outputs": [
    {
     "name": "stdout",
     "output_type": "stream",
     "text": [
      "Enter 10 km run time: 9\n",
      "Enter 10 km run time: 0\n",
      "Enter 10 km run time: 7\n",
      "Enter 10 km run time: \n",
      "Average of 5.333333333333333, over 3 runs\n"
     ]
    }
   ],
   "source": [
    "def run_timing():\n",
    "    \"\"\"Asks the user repeatedly for numeric input. Prints the average time and number of runs.\"\"\"\n",
    " \n",
    "    number_of_runs = 0\n",
    "    total_time = 0\n",
    " \n",
    "    while True:                                    \n",
    "        one_run = input('Enter 10 km run time: ')\n",
    " \n",
    "        if not one_run:                            \n",
    "             break\n",
    " \n",
    "        number_of_runs += 1\n",
    "        total_time += float(one_run)\n",
    " \n",
    "    average_time = total_time / number_of_runs\n",
    " \n",
    "    print(f'Average of {average_time}, over {number_of_runs} runs')\n",
    " \n",
    "run_timing()"
   ]
  },
  {
   "cell_type": "markdown",
   "id": "47dd7744",
   "metadata": {},
   "source": [
    "(hex_output) takes a hex number and returns the decimal equivalent. \n",
    "If the user enters 50, you’ll assume that it’s a hex number (equal to 0x50) and will print the value 80 to the screen. And no, you shouldn’t convert the number all at once using the int function, although it’s permissible to use int one digit at a time."
   ]
  },
  {
   "cell_type": "code",
   "execution_count": 13,
   "id": "2968fab3",
   "metadata": {},
   "outputs": [
    {
     "name": "stdout",
     "output_type": "stream",
     "text": [
      "Enter a hex number to convert: 3B\n",
      "power is:0 and digit is :B\n",
      "11\n",
      "power is:1 and digit is :3\n",
      "3\n",
      "59\n"
     ]
    }
   ],
   "source": [
    "def hex_output():\n",
    "    decnum = 0\n",
    "    hexnum = input('Enter a hex number to convert: ')\n",
    "    for power, digit in enumerate(reversed(hexnum)):\n",
    "        print(f'power is:{power} and digit is :{digit}')\n",
    "        print(int(digit, 16))\n",
    "        decnum += int(digit, 16) * (16 ** power)       \n",
    "    print(decnum)\n",
    " \n",
    "hex_output()"
   ]
  },
  {
   "cell_type": "markdown",
   "id": "3a23e987",
   "metadata": {},
   "source": [
    "If the word begins with a vowel (a, e, i, o, or u), add “way” to the end of the word. So “air” becomes “airway” and “eat” becomes “eatway.”\n",
    "\n",
    "If the word begins with any other letter, then we take the first letter, put it on the end of the word, and then add “ay.” Thus, “python” becomes “ythonpay” and “computer” becomes “omputercay.”"
   ]
  },
  {
   "cell_type": "code",
   "execution_count": 9,
   "id": "da38d7a4",
   "metadata": {},
   "outputs": [
    {
     "data": {
      "text/plain": [
       "'hisTay isway ustjay appleway'"
      ]
     },
     "execution_count": 9,
     "metadata": {},
     "output_type": "execute_result"
    }
   ],
   "source": [
    "def piglatin(word):\n",
    "    if word[0] in 'aeiou' :\n",
    "     return f'{word}way'  \n",
    "    return f'{word[1:]}{word[0]}ay'     \n",
    "\n",
    "def pl_sentence(stringy):\n",
    "    sentence=[]\n",
    "    words=stringy.split()\n",
    "    for word in words:\n",
    "        sentence.append(piglatin(word))\n",
    "        \n",
    "    return ' '.join(sentence)\n",
    "\n",
    "pl_sentence('This is just apple')    "
   ]
  },
  {
   "cell_type": "markdown",
   "id": "900feaee",
   "metadata": {},
   "source": [
    "In Ubbi Dubbi, every vowel (a, e, i, o, or u) is prefaced with ub. \n",
    "Eg: Thus milk becomes mubilk (m-ub-ilk) and program becomes prubogrubam (prub-ogrub-am). \n",
    "\n",
    "In theory, you only put an ub before every vowel sound, rather than before each vowel. Given that this is a book about Python and not linguistics, I hope that you’ll forgive this slight difference in definition."
   ]
  },
  {
   "cell_type": "code",
   "execution_count": 23,
   "id": "24e752eb",
   "metadata": {},
   "outputs": [
    {
     "data": {
      "text/plain": [
       "'ubaubir'"
      ]
     },
     "execution_count": 23,
     "metadata": {},
     "output_type": "execute_result"
    }
   ],
   "source": [
    "def ubbidubbi(word):\n",
    "    ubbiword=[]\n",
    "    for index, items in enumerate(word):\n",
    "        if items in 'aeiou':\n",
    "            ubbiword.append('ub'+items)\n",
    "        else:\n",
    "            ubbiword.append(items)\n",
    "        \n",
    "    return ''.join(ubbiword)\n",
    "            \n",
    "    \n",
    "\n",
    "\n",
    "ubbidubbi('air')"
   ]
  },
  {
   "cell_type": "markdown",
   "id": "357c7d46",
   "metadata": {},
   "source": [
    "writing a function, strsort, that takes a single string as its input and returns a string. The returned string should contain the same characters as the input, except that its characters should be sorted in order, from the lowest Unicode value to the highest Unicode value. For example, the result of invoking strsort('cba') will be the string abc"
   ]
  },
  {
   "cell_type": "code",
   "execution_count": 31,
   "id": "ca96163e",
   "metadata": {},
   "outputs": [
    {
     "data": {
      "text/plain": [
       "'aelnp'"
      ]
     },
     "execution_count": 31,
     "metadata": {},
     "output_type": "execute_result"
    }
   ],
   "source": [
    "def strsort(word):\n",
    "    word=sorted(word)\n",
    "    return ''.join(word)\n",
    "strsort(\"plane\")"
   ]
  },
  {
   "cell_type": "code",
   "execution_count": null,
   "id": "e2c94586",
   "metadata": {},
   "outputs": [],
   "source": []
  }
 ],
 "metadata": {
  "kernelspec": {
   "display_name": "Python 3",
   "language": "python",
   "name": "python3"
  },
  "language_info": {
   "codemirror_mode": {
    "name": "ipython",
    "version": 3
   },
   "file_extension": ".py",
   "mimetype": "text/x-python",
   "name": "python",
   "nbconvert_exporter": "python",
   "pygments_lexer": "ipython3",
   "version": "3.8.8"
  }
 },
 "nbformat": 4,
 "nbformat_minor": 5
}
